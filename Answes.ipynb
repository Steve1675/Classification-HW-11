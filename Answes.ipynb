{
 "cells": [
  {
   "cell_type": "markdown",
   "id": "e085cf7d",
   "metadata": {},
   "source": [
    "Credit Risk Resampling\n",
    "Which model had the best balanced accuracy score?\n",
    "Naive Random Oversampling\n",
    "\n",
    "Which model had the best recall score?\n",
    "Naive Random Oversampling\n",
    "\n",
    "Which model had the best geometric mean score?\n",
    "Naive Random Oversampling\n",
    "\n",
    "Credit Risk Ensemble\n",
    "Which model had the best balanced accuracy score?\n",
    "The EasyEnsembleClassifier model\n",
    "\n",
    "Which model had the best recall score?\n",
    "The EasyEnsembleClassifier model\n",
    "\n",
    "Which model had the best geometric mean score?\n",
    "The EasyEnsembleClassifier model\n",
    "\n",
    "What are the top three features?\n",
    "total_rec_prncp\n",
    "total_pymnt_inv\n",
    "total_pymnt"
   ]
  }
 ],
 "metadata": {
  "kernelspec": {
   "display_name": "Python 3 (ipykernel)",
   "language": "python",
   "name": "python3"
  },
  "language_info": {
   "codemirror_mode": {
    "name": "ipython",
    "version": 3
   },
   "file_extension": ".py",
   "mimetype": "text/x-python",
   "name": "python",
   "nbconvert_exporter": "python",
   "pygments_lexer": "ipython3",
   "version": "3.8.8"
  }
 },
 "nbformat": 4,
 "nbformat_minor": 5
}
